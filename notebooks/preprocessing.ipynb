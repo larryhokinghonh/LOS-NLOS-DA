{
 "cells": [
  {
   "cell_type": "code",
   "execution_count": 1,
   "metadata": {},
   "outputs": [],
   "source": [
    "import pandas as pd\n",
    "from sklearn.model_selection import train_test_split\n",
    "from sklearn.preprocessing import RobustScaler\n",
    "import joblib\n",
    "import numpy as np"
   ]
  },
  {
   "cell_type": "code",
   "execution_count": 2,
   "metadata": {},
   "outputs": [],
   "source": [
    "data = pd.read_csv('../data/processed/aggregated_dataset.csv')\n",
    "X = data.drop(columns=['NLOS', 'RANGE'])  # Features\n",
    "y_class = data['NLOS']                    # Classification target\n",
    "y_reg = data['RANGE']                     # Regression target"
   ]
  },
  {
   "cell_type": "code",
   "execution_count": 3,
   "metadata": {},
   "outputs": [],
   "source": [
    "X_train, X_test, y_class_train, y_class_test, y_reg_train, y_reg_test = train_test_split(\n",
    "    X, y_class, y_reg, \n",
    "    test_size=0.3, \n",
    "    stratify=y_class,  \n",
    "    random_state=42     \n",
    ")"
   ]
  },
  {
   "cell_type": "code",
   "execution_count": null,
   "metadata": {},
   "outputs": [],
   "source": [
    "# initial features set\n",
    "top_features = [\n",
    "    'RXPACC', 'FP_AMP1', 'FP_AMP2', 'FP_AMP3', \n",
    "    'RISE_TIME_CLIPPED', 'CIR_SKEW', \n",
    "    'CIR_ENERGY_FIRST_100', 'CIR_PWR', 'FP_IDX'\n",
    "]\n",
    "\n",
    "X_train_top = X_train[top_features]\n",
    "X_test_top = X_test[top_features]"
   ]
  },
  {
   "cell_type": "code",
   "execution_count": null,
   "metadata": {},
   "outputs": [],
   "source": [
    "scaler = RobustScaler()\n",
    "X_train_top= scaler.fit_transform(X_train_top)\n",
    "X_test_top= scaler.transform(X_test_top)\n",
    "\n",
    "# Save the scaled top features\n",
    "np.save('../data/processed/X_train_top.npy', X_train_top)\n",
    "np.save('../data/processed/X_test_top.npy', X_test_top)"
   ]
  },
  {
   "cell_type": "code",
   "execution_count": null,
   "metadata": {},
   "outputs": [],
   "source": [
    "# updated features set\n",
    "top_features = [\n",
    "    'RXPACC', 'CIR_ENERGY_FIRST_100', 'RISE_TIME_CLIPPED', 'RISE_TIME', \n",
    "    'CIR742', 'CIR741', 'CIR574', 'CIR740', 'CIR326', 'CIR646', 'CIR582', 'CIR575', \n",
    "    'CIR246', 'CIR526', 'CIR654', 'CIR350', 'CIR590', 'CIR430'\n",
    "]\n",
    "\n",
    "X_train_top_scaled = X_train[top_features]\n",
    "X_test_top_scaled = X_test[top_features]"
   ]
  },
  {
   "cell_type": "code",
   "execution_count": null,
   "metadata": {},
   "outputs": [],
   "source": [
    "scaler = RobustScaler()\n",
    "X_train_top_scaled = scaler.fit_transform(X_train_top_scaled)\n",
    "X_test_top_scaled = scaler.transform(X_test_top_scaled)\n",
    "\n",
    "# Save the scaled top features\n",
    "np.save('../data/processed/X_train_top_scaled.npy', X_train_top_scaled)\n",
    "np.save('../data/processed/X_test_top_scaled.npy', X_test_top_scaled)"
   ]
  },
  {
   "cell_type": "code",
   "execution_count": null,
   "metadata": {},
   "outputs": [
    {
     "name": "stdout",
     "output_type": "stream",
     "text": [
      "PCA reduced dimensions to 865 components.\n"
     ]
    }
   ],
   "source": [
    "# from sklearn.decomposition import PCA\n",
    "\n",
    "# # Option A: PCA on all features \n",
    "# pca = PCA(n_components=0.95)  # Retain 95% variance\n",
    "# X_train_pca = pca.fit_transform(X_train_scaled)\n",
    "# X_test_pca = pca.transform(X_test_scaled)\n",
    "# print(f\"PCA reduced dimensions to {X_train_pca.shape[1]} components.\")"
   ]
  },
  {
   "cell_type": "markdown",
   "metadata": {},
   "source": [
    "pca was not effective"
   ]
  },
  {
   "cell_type": "code",
   "execution_count": 6,
   "metadata": {},
   "outputs": [],
   "source": [
    "# Targets (raw, no scaling)\n",
    "# classification\n",
    "np.save('../data/processed/y_class_train.npy', y_class_train) \n",
    "np.save('../data/processed/y_class_test.npy', y_class_test)\n",
    "\n",
    "# Save regression targets\n",
    "np.save('../data/processed/y_reg_train.npy', y_reg_train)\n",
    "np.save('../data/processed/y_reg_test.npy', y_reg_test)"
   ]
  }
 ],
 "metadata": {
  "kernelspec": {
   "display_name": "Python 3",
   "language": "python",
   "name": "python3"
  },
  "language_info": {
   "codemirror_mode": {
    "name": "ipython",
    "version": 3
   },
   "file_extension": ".py",
   "mimetype": "text/x-python",
   "name": "python",
   "nbconvert_exporter": "python",
   "pygments_lexer": "ipython3",
   "version": "3.12.4"
  }
 },
 "nbformat": 4,
 "nbformat_minor": 2
}
