{
 "cells": [
  {
   "cell_type": "code",
   "execution_count": 4,
   "metadata": {},
   "outputs": [],
   "source": [
    "import pandas as pd\n",
    "from sklearn.model_selection import train_test_split\n",
    "from sklearn.preprocessing import RobustScaler\n",
    "import joblib\n",
    "import numpy as np"
   ]
  },
  {
   "cell_type": "code",
   "execution_count": 5,
   "metadata": {},
   "outputs": [],
   "source": [
    "data = pd.read_csv('../data/processed/aggregated_dataset.csv')\n",
    "X = data.drop(columns=['NLOS', 'RANGE'])  # Features\n",
    "y_class = data['NLOS']                    # Classification target\n",
    "y_reg = data['RANGE']                     # Regression target"
   ]
  },
  {
   "cell_type": "code",
   "execution_count": 6,
   "metadata": {},
   "outputs": [],
   "source": [
    "X_train, X_test, y_class_train, y_class_test, y_reg_train, y_reg_test = train_test_split(\n",
    "    X, y_class, y_reg, \n",
    "    test_size=0.3, \n",
    "    stratify=y_class,  \n",
    "    random_state=42     \n",
    ")"
   ]
  },
  {
   "cell_type": "code",
   "execution_count": 4,
   "metadata": {},
   "outputs": [],
   "source": [
    "top_features = [\n",
    "    'RXPACC', 'FP_AMP1', 'FP_AMP2', 'FP_AMP3', \n",
    "    'RISE_TIME_CLIPPED', 'CIR_SKEW', \n",
    "    'CIR_ENERGY_FIRST_100', 'CIR_PWR', 'FP_IDX'\n",
    "]\n",
    "\n",
    "X_train_top = X_train[top_features]  # Subset BEFORE scaling\n",
    "X_test_top = X_test[top_features]"
   ]
  },
  {
   "cell_type": "code",
   "execution_count": 7,
   "metadata": {},
   "outputs": [],
   "source": [
    "scaler = RobustScaler()\n",
    "X_train_scaled = scaler.fit_transform(X_train)\n",
    "X_test_scaled = scaler.transform(X_test)"
   ]
  },
  {
   "cell_type": "code",
   "execution_count": null,
   "metadata": {},
   "outputs": [
    {
     "name": "stdout",
     "output_type": "stream",
     "text": [
      "PCA reduced dimensions to 865 components.\n"
     ]
    }
   ],
   "source": [
    "# from sklearn.decomposition import PCA\n",
    "\n",
    "# # Option A: PCA on all features (1030 → ~50 components)\n",
    "# pca = PCA(n_components=0.95)  # Retain 95% variance\n",
    "# X_train_pca = pca.fit_transform(X_train_scaled)\n",
    "# X_test_pca = pca.transform(X_test_scaled)\n",
    "# print(f\"PCA reduced dimensions to {X_train_pca.shape[1]} components.\")"
   ]
  },
  {
   "cell_type": "markdown",
   "metadata": {},
   "source": [
    "pca was not effective"
   ]
  },
  {
   "cell_type": "code",
   "execution_count": 6,
   "metadata": {},
   "outputs": [],
   "source": [
    "# Targets (raw, no scaling)\n",
    "# classification\n",
    "np.save('../data/processed/y_class_train.npy', y_class_train) \n",
    "np.save('../data/processed/y_class_test.npy', y_class_test)\n",
    "\n",
    "# Save regression targets\n",
    "np.save('../data/processed/y_reg_train.npy', y_reg_train)\n",
    "np.save('../data/processed/y_reg_test.npy', y_reg_test)"
   ]
  },
  {
   "cell_type": "code",
   "execution_count": 7,
   "metadata": {},
   "outputs": [
    {
     "data": {
      "text/plain": [
       "['../models/robust_scaler.joblib']"
      ]
     },
     "execution_count": 7,
     "metadata": {},
     "output_type": "execute_result"
    }
   ],
   "source": [
    "# Save data and metadata\n",
    "np.save('../data/processed/X_train_scaled.npy', X_train_scaled)\n",
    "np.save('../data/processed/X_test_scaled.npy', X_test_scaled)\n",
    "joblib.dump(scaler, '../models/robust_scaler.joblib')"
   ]
  }
 ],
 "metadata": {
  "kernelspec": {
   "display_name": "Python 3",
   "language": "python",
   "name": "python3"
  },
  "language_info": {
   "codemirror_mode": {
    "name": "ipython",
    "version": 3
   },
   "file_extension": ".py",
   "mimetype": "text/x-python",
   "name": "python",
   "nbconvert_exporter": "python",
   "pygments_lexer": "ipython3",
   "version": "3.12.4"
  }
 },
 "nbformat": 4,
 "nbformat_minor": 2
}
