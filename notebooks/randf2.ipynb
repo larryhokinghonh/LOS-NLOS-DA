{
 "cells": [
  {
   "cell_type": "code",
   "execution_count": null,
   "metadata": {},
   "outputs": [],
   "source": [
    "import pandas as pd\n",
    "import numpy as np\n",
    "import matplotlib.pyplot as plt\n",
    "import seaborn as sns\n",
    "from sklearn.model_selection import train_test_split\n",
    "from sklearn.ensemble import RandomForestClassifier, RandomForestRegressor\n",
    "from sklearn.metrics import (\n",
    "    accuracy_score, classification_report, confusion_matrix,\n",
    "    mean_squared_error, r2_score\n",
    ")"
   ]
  },
  {
   "cell_type": "code",
   "execution_count": null,
   "metadata": {},
   "outputs": [],
   "source": [
    "# step 2: load the cleaned dataset\n",
    "data = pd.read_csv('../data/processed/aggregated_dataset.csv')\n",
    "print(\"Cleaned dataset shape:\", data.shape)\n",
    "data.head()"
   ]
  },
  {
   "cell_type": "code",
   "execution_count": null,
   "metadata": {},
   "outputs": [],
   "source": [
    "# step 3: split data into features and labels\n",
    "# features (exclude NLOS and RANGE)\n",
    "X = data.drop(columns=['NLOS', 'RANGE'])\n",
    "\n",
    "y_class = data['NLOS']  # label (0 = LOS, 1 = NLOS)\n",
    "y_reg = data['RANGE']"
   ]
  },
  {
   "cell_type": "code",
   "execution_count": null,
   "metadata": {},
   "outputs": [],
   "source": [
    "# step 4: split data into training and testing Sets\n",
    "# split for classification (stratified split)\n",
    "X_train, X_test, y_class_train, y_class_test = train_test_split(\n",
    "    X, y_class,\n",
    "    test_size=0.3,\n",
    "    stratify=y_class,\n",
    "    random_state=42\n",
    ")\n",
    "\n",
    "# split for regression (same indices using random_state=42)\n",
    "_, _, y_reg_train, y_reg_test = train_test_split(\n",
    "    X, y_reg,\n",
    "    test_size=0.3,\n",
    "    random_state=42\n",
    ")\n",
    "\n",
    "# verify shapes\n",
    "print(\"Training set shape:\", X_train.shape)\n",
    "print(\"Testing set shape:\", X_test.shape)"
   ]
  },
  {
   "cell_type": "code",
   "execution_count": null,
   "metadata": {},
   "outputs": [],
   "source": [
    "# step 5: train random forest models\n",
    "# initialize models\n",
    "rf_classifier = RandomForestClassifier(\n",
    "    n_estimators=100,\n",
    "    random_state=42,\n",
    "    n_jobs=-1\n",
    ")\n",
    "\n",
    "rf_regressor = RandomForestRegressor(\n",
    "    n_estimators=100,\n",
    "    random_state=42,\n",
    "    n_jobs=-1\n",
    ")\n",
    "\n",
    "# train models\n",
    "rf_classifier.fit(X_train, y_class_train)\n",
    "rf_regressor.fit(X_train, y_reg_train)"
   ]
  },
  {
   "cell_type": "code",
   "execution_count": null,
   "metadata": {},
   "outputs": [],
   "source": [
    "# step 6: evaluate models\n",
    "# predict on test set\n",
    "y_class_pred = rf_classifier.predict(X_test)\n",
    "\n",
    "# calculate metrics\n",
    "accuracy = accuracy_score(y_class_test, y_class_pred)\n",
    "report = classification_report(y_class_test, y_class_pred)\n",
    "cm = confusion_matrix(y_class_test, y_class_pred)\n",
    "\n",
    "print(f\"Classification Accuracy: {accuracy:.2f}\")\n",
    "print(\"\\nClassification Report:\\n\", report)\n",
    "\n",
    "# plot confusion matrix\n",
    "plt.figure(figsize=(6, 4))\n",
    "sns.heatmap(cm, annot=True, fmt='d', cmap='Blues', xticklabels=['LOS', 'NLOS'], yticklabels=['LOS', 'NLOS'])\n",
    "plt.xlabel('Predicted')\n",
    "plt.ylabel('Actual')\n",
    "plt.title('Confusion Matrix')\n",
    "plt.show()"
   ]
  },
  {
   "cell_type": "code",
   "execution_count": null,
   "metadata": {},
   "outputs": [],
   "source": [
    "# regression metrics\n",
    "# predict on test set\n",
    "y_reg_pred = rf_regressor.predict(X_test)\n",
    "\n",
    "# calculate metrics\n",
    "rmse = np.sqrt(mean_squared_error(y_reg_test, y_reg_pred))\n",
    "r2 = r2_score(y_reg_test, y_reg_pred)\n",
    "\n",
    "print(f\"RMSE: {rmse:.2f}\")\n",
    "print(f\"R² Score: {r2:.2f}\")\n",
    "\n",
    "# plot predicted vs actual\n",
    "plt.figure(figsize=(8, 6))\n",
    "plt.scatter(y_reg_test, y_reg_pred, alpha=0.3)\n",
    "plt.plot([y_reg_test.min(), y_reg_test.max()], [y_reg_test.min(), y_reg_test.max()], 'k--', lw=2)\n",
    "plt.xlabel('Actual Range')\n",
    "plt.ylabel('Predicted Range')\n",
    "plt.title('Actual vs Predicted Range')\n",
    "plt.show()"
   ]
  },
  {
   "cell_type": "code",
   "execution_count": null,
   "metadata": {},
   "outputs": [],
   "source": [
    "# step 7: feature importance analysis\n",
    "# get feature importances\n",
    "feature_importances_class = pd.DataFrame({\n",
    "    'Feature': X.columns,\n",
    "    'Importance': rf_classifier.feature_importances_\n",
    "}).sort_values('Importance', ascending=False)\n",
    "\n",
    "feature_importances_reg = pd.DataFrame({\n",
    "    'Feature': X.columns,\n",
    "    'Importance': rf_regressor.feature_importances_\n",
    "}).sort_values('Importance', ascending=False)\n",
    "\n",
    "# plot classification feature importance\n",
    "plt.figure(figsize=(10, 6))\n",
    "sns.barplot(x='Importance', y='Feature', data=feature_importances_class.head(10))\n",
    "plt.title('Top 10 Features for LOS/NLOS Classification')\n",
    "plt.show()\n",
    "\n",
    "# plot regression feature importance\n",
    "plt.figure(figsize=(10, 6))\n",
    "sns.barplot(x='Importance', y='Feature', data=feature_importances_reg.head(10))\n",
    "plt.title('Top 10 Features for Range Prediction')\n",
    "plt.show()"
   ]
  },
  {
   "cell_type": "code",
   "execution_count": null,
   "metadata": {},
   "outputs": [],
   "source": [
    "from sklearn.metrics import accuracy_score\n",
    "\n",
    "# Predict on the test set\n",
    "y_pred = rf_classifier.predict(X_test)\n",
    "\n",
    "# Calculate accuracy\n",
    "accuracy = accuracy_score(y_class_test, y_pred)\n",
    "print(f\"Accuracy: {accuracy:.2f}\")"
   ]
  }
 ],
 "metadata": {
  "kernelspec": {
   "display_name": "Python 3",
   "language": "python",
   "name": "python3"
  },
  "language_info": {
   "codemirror_mode": {
    "name": "ipython",
    "version": 3
   },
   "file_extension": ".py",
   "mimetype": "text/x-python",
   "name": "python",
   "nbconvert_exporter": "python",
   "pygments_lexer": "ipython3",
   "version": "3.12.4"
  }
 },
 "nbformat": 4,
 "nbformat_minor": 2
}
