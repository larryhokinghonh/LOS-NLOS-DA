{
 "cells": [
  {
   "cell_type": "markdown",
   "metadata": {},
   "source": [
    "#  Random Forest Regression Pipeline\n",
    "\n",
    "This notebook presents a step-by-step guide for building a **Random Forest Regressor** to predict `RANGE`, which likely represents a continuous distance measurement.\n",
    "\n",
    "The pipeline includes:\n",
    "\n",
    "1.  Loading and preparing the dataset\n",
    "2.  Preprocessing features (scaling, splitting)\n",
    "3.  Hyperparameter tuning using `RandomizedSearchCV`\n",
    "4.  Model evaluation using MSE, RMSE, and R² score\n",
    "5.  Analyzing feature importance and residuals\n",
    "6.  Saving the model and scaler for future use\n"
   ]
  },
  {
   "cell_type": "markdown",
   "metadata": {},
   "source": [
    "##  Load and Preview Dataset\n",
    "\n",
    "We start by importing necessary libraries and reading the dataset using `pandas`.  \n",
    "The shape of the dataset (rows × columns) is printed to verify successful loading and understand its size.\n"
   ]
  },
  {
   "cell_type": "code",
   "execution_count": null,
   "metadata": {},
   "outputs": [],
   "source": [
    "import pandas as pd\n",
    "import numpy as np\n",
    "import matplotlib.pyplot as plt\n",
    "import seaborn as sns\n",
    "from sklearn.model_selection import train_test_split, RandomizedSearchCV\n",
    "from sklearn.ensemble import RandomForestRegressor\n",
    "from sklearn.preprocessing import RobustScaler\n",
    "from sklearn.metrics import mean_squared_error, r2_score\n",
    "import joblib\n",
    "\n",
    "# Load and prepare data\n",
    "data = pd.read_csv('../data/processed/aggregated_dataset.csv')\n",
    "print(\"Dataset shape:\", data.shape)"
   ]
  },
  {
   "cell_type": "markdown",
   "metadata": {},
   "source": [
    "##  Define Features and Target\n",
    "\n",
    "- `X` includes all input features **excluding** the `RANGE` (target) and `NLOS` (not needed for prediction).\n",
    "- `y` is the target variable — `RANGE` — which we're aiming to predict.\n"
   ]
  },
  {
   "cell_type": "code",
   "execution_count": null,
   "metadata": {},
   "outputs": [],
   "source": [
    "# Separate features and target\n",
    "X = data.drop(['RANGE', 'NLOS'], axis=1)  # Remove both RANGE and NLOS\n",
    "y = data['RANGE']  # Target is RANGE"
   ]
  },
  {
   "cell_type": "markdown",
   "metadata": {},
   "source": [
    "## Split and Scale the Data\n",
    "\n",
    "- Split the dataset into **80% training** and **20% testing**.\n",
    "- Apply `RobustScaler` to both training and test features.  \n",
    "  This scaling method is **resistant to outliers**, ensuring robust normalization of features."
   ]
  },
  {
   "cell_type": "code",
   "execution_count": null,
   "metadata": {},
   "outputs": [],
   "source": [
    "# Split the data\n",
    "X_train, X_test, y_train, y_test = train_test_split(\n",
    "    X, y, test_size=0.2, random_state=42\n",
    ")\n",
    "\n",
    "# Scale the features\n",
    "scaler = RobustScaler()\n",
    "X_train_scaled = scaler.fit_transform(X_train)\n",
    "X_test_scaled = scaler.transform(X_test)"
   ]
  },
  {
   "cell_type": "markdown",
   "metadata": {},
   "source": [
    "##  Initialize Random Forest Model\n",
    "\n",
    "We initialize a `RandomForestRegressor` with a fixed `random_state` to ensure reproducibility.  \n",
    "This is the base estimator that will later be tuned using randomized search.\n"
   ]
  },
  {
   "cell_type": "code",
   "execution_count": null,
   "metadata": {},
   "outputs": [],
   "source": [
    "# Initialize base model\n",
    "rf_reg = RandomForestRegressor(random_state=42)"
   ]
  },
  {
   "cell_type": "markdown",
   "metadata": {},
   "source": [
    "## Hyperparameter Tuning using Randomized Search\n",
    "\n",
    "We use `RandomizedSearchCV` to efficiently search across a subset of hyperparameter combinations:\n",
    "\n",
    "- **`n_estimators`**: Number of trees in the forest  \n",
    "- **`max_depth`**: Maximum depth of each tree  \n",
    "- **`min_samples_split` / `min_samples_leaf`**: Controls tree complexity  \n",
    "- **`max_features`**: Number of features to consider when splitting a node\n",
    "\n",
    "**n_iter=1**: Only one random combination is tried (you can increase this for a full search).  \n",
    "**cv=4**: 4-fold cross-validation ensures robust performance estimation."
   ]
  },
  {
   "cell_type": "code",
   "execution_count": null,
   "metadata": {},
   "outputs": [],
   "source": [
    "# Random search for hyperparameter tuning\n",
    "rf_random = RandomizedSearchCV(\n",
    "    estimator=rf_reg,\n",
    "    # Define hyperparameter search space\n",
    "    param_distributions={\n",
    "        'n_estimators': [200],\n",
    "        'max_depth': [25],\n",
    "        'min_samples_split': [5],\n",
    "        'min_samples_leaf': [4],\n",
    "        'max_features': ['sqrt']\n",
    "    },\n",
    "    n_iter=1,\n",
    "    cv=4,\n",
    "    random_state=42,\n",
    "    n_jobs=-1,\n",
    "    scoring='neg_mean_squared_error',\n",
    "    verbose=2\n",
    ")"
   ]
  },
  {
   "cell_type": "markdown",
   "metadata": {},
   "source": [
    "##  Train the Model\n",
    "\n",
    "Fit the model on the training set using the defined randomized hyperparameter space.  \n",
    "During this process, cross-validation is performed to select the best-performing configuration.\n"
   ]
  },
  {
   "cell_type": "code",
   "execution_count": null,
   "metadata": {},
   "outputs": [],
   "source": [
    "# Fit the random search model\n",
    "rf_random.fit(X_train_scaled, y_train)\n",
    "\n",
    "# Print best parameters and score\n",
    "print(\"\\nBest parameters:\", rf_random.best_params_)\n",
    "print(\"Best MSE score:\", -rf_random.best_score_)"
   ]
  },
  {
   "cell_type": "markdown",
   "metadata": {},
   "source": [
    "##  Extract the Best Estimator\n",
    "\n",
    "Retrieve the best-performing model (based on cross-validated MSE) from the `RandomizedSearchCV` object.\n"
   ]
  },
  {
   "cell_type": "code",
   "execution_count": null,
   "metadata": {},
   "outputs": [],
   "source": [
    "# Get the best model\n",
    "best_rf_reg = rf_random.best_estimator_\n",
    "\n",
    "# Make predictions\n",
    "y_pred = best_rf_reg.predict(X_test_scaled)\n",
    "\n",
    "# Calculate metrics\n",
    "mse = mean_squared_error(y_test, y_pred)\n",
    "rmse = np.sqrt(mse)\n",
    "r2 = r2_score(y_test, y_pred)\n",
    "\n",
    "print(\"\\nTest Set Performance:\")\n",
    "print(f\"Mean Squared Error: {mse:.4f}\")\n",
    "print(f\"Root Mean Squared Error: {rmse:.4f}\")\n",
    "print(f\"R² Score: {r2:.4f}\")"
   ]
  },
  {
   "cell_type": "code",
   "execution_count": null,
   "metadata": {},
   "outputs": [],
   "source": [
    "# Plot actual vs predicted values\n",
    "plt.figure(figsize=(10, 6))\n",
    "plt.scatter(y_test, y_pred, alpha=0.5)\n",
    "plt.plot([y_test.min(), y_test.max()], [y_test.min(), y_test.max()], 'r--', lw=2)\n",
    "plt.xlabel('Actual Range')\n",
    "plt.ylabel('Predicted Range')\n",
    "plt.title('Actual vs Predicted Range Values')\n",
    "plt.tight_layout()\n",
    "plt.show()"
   ]
  },
  {
   "cell_type": "markdown",
   "metadata": {},
   "source": [
    "## Top 20 Most Important Features\n",
    "\n",
    "Visualize the top 20 features that contribute the most to prediction decisions.  \n",
    "This helps in **interpreting the model** and potentially reducing dimensionality in future iterations."
   ]
  },
  {
   "cell_type": "code",
   "execution_count": null,
   "metadata": {},
   "outputs": [],
   "source": [
    "# Plot feature importances\n",
    "feature_importance = pd.DataFrame({\n",
    "    'feature': X.columns,\n",
    "    'importance': best_rf_reg.feature_importances_\n",
    "})\n",
    "feature_importance = feature_importance.sort_values('importance', ascending=False).head(20)\n",
    "\n",
    "plt.figure(figsize=(12, 6))\n",
    "sns.barplot(x='importance', y='feature', data=feature_importance)\n",
    "plt.title('Top 20 Most Important Features for Range Prediction')\n",
    "plt.tight_layout()\n",
    "plt.show()"
   ]
  },
  {
   "cell_type": "markdown",
   "metadata": {},
   "source": [
    "##  Save the Trained Model and Scaler\n",
    "\n",
    "Use `joblib` to save both the trained random forest model and the feature scaler.  \n",
    "This allows for fast loading and reuse of the model in future applications or production environments.\n"
   ]
  },
  {
   "cell_type": "code",
   "execution_count": null,
   "metadata": {},
   "outputs": [],
   "source": [
    "# Save the model and scaler\n",
    "joblib.dump(best_rf_reg, '../models/best_rf_regressor.joblib')\n",
    "joblib.dump(scaler, '../models/rf_regressor_scaler.joblib')"
   ]
  },
  {
   "cell_type": "markdown",
   "metadata": {},
   "source": [
    "## Residual Analysis – Scatter Plot\n",
    "\n",
    "Plot residuals (actual - predicted) against predicted values to check for:\n",
    "\n",
    "- Bias (non-zero center)\n",
    "- Heteroscedasticity (fan-shape spread)\n",
    "- Patterns (non-random errors)\n",
    "\n",
    "Ideally, residuals should be **randomly scattered around zero**."
   ]
  },
  {
   "cell_type": "code",
   "execution_count": null,
   "metadata": {},
   "outputs": [],
   "source": [
    "# Calculate residuals\n",
    "residuals = y_test - y_pred\n",
    "\n",
    "# Plot residuals\n",
    "plt.figure(figsize=(10, 6))\n",
    "plt.scatter(y_pred, residuals, alpha=0.5)\n",
    "plt.axhline(y=0, color='r', linestyle='--')\n",
    "plt.xlabel('Predicted Range')\n",
    "plt.ylabel('Residuals')\n",
    "plt.title('Residual Plot')\n",
    "plt.tight_layout()\n",
    "plt.show()"
   ]
  },
  {
   "cell_type": "markdown",
   "metadata": {},
   "source": [
    "###  Residual Distribution\n",
    "\n",
    "Histogram of residuals helps understand how errors are distributed.  \n",
    "A roughly normal distribution centered at zero indicates a well-behaved model.\n"
   ]
  },
  {
   "cell_type": "code",
   "execution_count": null,
   "metadata": {},
   "outputs": [],
   "source": [
    "# Plot residuals distribution\n",
    "plt.figure(figsize=(10, 6))\n",
    "plt.hist(residuals, bins=50)\n",
    "plt.xlabel('Residual Value')\n",
    "plt.ylabel('Frequency')\n",
    "plt.title('Distribution of Residuals')\n",
    "plt.tight_layout()\n",
    "plt.show()"
   ]
  },
  {
   "cell_type": "markdown",
   "metadata": {},
   "source": [
    "###  Residual Summary Statistics\n",
    "\n",
    "Displays statistical summary (mean, std, quartiles) of the residuals to provide numerical insight into model error characteristics.\n"
   ]
  },
  {
   "cell_type": "code",
   "execution_count": null,
   "metadata": {},
   "outputs": [],
   "source": [
    "# Print summary statistics of residuals\n",
    "print(\"\\nResiduals Summary Statistics:\")\n",
    "print(pd.Series(residuals).describe())"
   ]
  }
 ],
 "metadata": {
  "kernelspec": {
   "display_name": "Python 3",
   "language": "python",
   "name": "python3"
  },
  "language_info": {
   "codemirror_mode": {
    "name": "ipython",
    "version": 3
   },
   "file_extension": ".py",
   "mimetype": "text/x-python",
   "name": "python",
   "nbconvert_exporter": "python",
   "pygments_lexer": "ipython3",
   "version": "3.10.6"
  }
 },
 "nbformat": 4,
 "nbformat_minor": 2
}
